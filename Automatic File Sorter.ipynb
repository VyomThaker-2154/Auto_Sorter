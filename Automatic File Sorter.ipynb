{
 "cells": [
  {
   "cell_type": "markdown",
   "id": "a054606b",
   "metadata": {},
   "source": [
    "# Automatic File Sorter"
   ]
  },
  {
   "cell_type": "code",
   "execution_count": 1,
   "id": "d6d12b51",
   "metadata": {},
   "outputs": [],
   "source": [
    "import os, shutil"
   ]
  },
  {
   "cell_type": "code",
   "execution_count": 6,
   "id": "0456808d",
   "metadata": {},
   "outputs": [],
   "source": [
    "path = r\"C:/Users/lenovo/Desktop/Python/auto_sorter/\""
   ]
  },
  {
   "cell_type": "code",
   "execution_count": 12,
   "id": "762dcfc6",
   "metadata": {},
   "outputs": [],
   "source": [
    "file_name = os.listdir(path)"
   ]
  },
  {
   "cell_type": "code",
   "execution_count": 8,
   "id": "296ff427",
   "metadata": {},
   "outputs": [],
   "source": [
    "folder_name = ['csv files','image file','text file']\n",
    "for i in range(0,3):\n",
    "    if not os.path.exists(path + folder_name[i]):\n",
    "        os.makedirs(path + folder_name[i])\n"
   ]
  },
  {
   "cell_type": "code",
   "execution_count": 24,
   "id": "25e0f7bc",
   "metadata": {},
   "outputs": [],
   "source": [
    "for file in file_name:\n",
    "    if \".csv\" in file and not os.path.exists(path + \"csv files/\" + file):\n",
    "        shutil.move(path + file, path + \"csv files/\"+ file)\n",
    "    elif \".png\" in file and not os.path.exists(path + \"image file/\" + file):\n",
    "        shutil.move(path + file, path + \"image file/\"+ file)\n",
    "    elif \".jpg\" in file and not os.path.exists(path + \"image file/\" + file):\n",
    "        shutil.move(path + file, path + \"image file/\"+ file)"
   ]
  },
  {
   "cell_type": "code",
   "execution_count": null,
   "id": "3a5d8503",
   "metadata": {},
   "outputs": [],
   "source": []
  },
  {
   "cell_type": "code",
   "execution_count": null,
   "id": "1da5e0a0",
   "metadata": {},
   "outputs": [],
   "source": []
  }
 ],
 "metadata": {
  "kernelspec": {
   "display_name": "Python 3 (ipykernel)",
   "language": "python",
   "name": "python3"
  },
  "language_info": {
   "codemirror_mode": {
    "name": "ipython",
    "version": 3
   },
   "file_extension": ".py",
   "mimetype": "text/x-python",
   "name": "python",
   "nbconvert_exporter": "python",
   "pygments_lexer": "ipython3",
   "version": "3.11.5"
  }
 },
 "nbformat": 4,
 "nbformat_minor": 5
}
